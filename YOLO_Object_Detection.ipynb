{
  "cells": [
    {
      "cell_type": "code",
      "execution_count": null,
      "id": "9a506bf5",
      "metadata": {
        "id": "9a506bf5"
      },
      "outputs": [],
      "source": [
        "import cv2\n",
        "import numpy as np\n",
        ""
      ]
    },
    {
      "cell_type": "code",
      "execution_count": null,
      "id": "4da44c90",
      "metadata": {
        "id": "4da44c90"
      },
      "outputs": [],
      "source": [
        "\n",
        "# Paths to the YOLO model files\n",
        "config_path = \"yolov3.cfg\"  # Replace with your config file path\n",
        "weights_path = \"yolov3.weights\"  # Replace with your weights file path\n",
        "names_path = \"coco.names\"  # Replace with your class names file path\n",
        ""
      ]
    },
    {
      "cell_type": "code",
      "execution_count": null,
      "id": "dac0f876",
      "metadata": {
        "id": "dac0f876"
      },
      "outputs": [],
      "source": [
        "\n",
        "# Load class names\n",
        "with open(names_path, \"r\") as f:\n",
        "    class_names = [line.strip() for line in f.readlines()]\n",
        ""
      ]
    },
    {
      "cell_type": "code",
      "execution_count": null,
      "id": "b9913a17",
      "metadata": {
        "id": "b9913a17"
      },
      "outputs": [],
      "source": [
        "\n",
        "# Load YOLO model\n",
        "net = cv2.dnn.readNetFromDarknet(config_path, weights_path)\n",
        "net.setPreferableBackend(cv2.dnn.DNN_BACKEND_OPENCV)\n",
        "net.setPreferableTarget(cv2.dnn.DNN_TARGET_CPU)\n",
        "\n",
        "# Get the output layer names\n",
        "layer_names = net.getLayerNames()\n",
        "output_layers = [layer_names[i[0] - 1] for i in net.getUnconnectedOutLayers()]\n",
        ""
      ]
    },
    {
      "cell_type": "code",
      "execution_count": null,
      "id": "a55c5dab",
      "metadata": {
        "id": "a55c5dab"
      },
      "outputs": [],
      "source": [
        "\n",
        "# Load an image\n",
        "image = cv2.imread(\"image.jpg\")  # Replace with your image path\n",
        "height, width = image.shape[:2]\n",
        "\n",
        "# Prepare the image for the model\n",
        "blob = cv2.dnn.blobFromImage(image, 1 / 255.0, (416, 416), swapRB=True, crop=False)\n",
        "net.setInput(blob)\n",
        "\n",
        "# Perform forward pass\n",
        "outputs = net.forward(output_layers)\n",
        ""
      ]
    },
    {
      "cell_type": "code",
      "execution_count": null,
      "id": "144c3433",
      "metadata": {
        "id": "144c3433"
      },
      "outputs": [],
      "source": [
        "\n",
        "# Initialize lists for detection results\n",
        "boxes = []\n",
        "confidences = []\n",
        "class_ids = []\n",
        "\n",
        "# Process the outputs\n",
        "for output in outputs:\n",
        "    for detection in output:\n",
        "        scores = detection[5:]\n",
        "        class_id = np.argmax(scores)\n",
        "        confidence = scores[class_id]\n",
        "\n",
        "        # Filter detections by confidence threshold\n",
        "        if confidence > 0.5:\n",
        "            center_x = int(detection[0] * width)\n",
        "            center_y = int(detection[1] * height)\n",
        "            w = int(detection[2] * width)\n",
        "            h = int(detection[3] * height)\n",
        "\n",
        "            x = int(center_x - w / 2)\n",
        "            y = int(center_y - h / 2)\n",
        "\n",
        "            boxes.append([x, y, w, h])\n",
        "            confidences.append(float(confidence))\n",
        "            class_ids.append(class_id)\n",
        "\n",
        "# Apply non-max suppression\n",
        "indices = cv2.dnn.NMSBoxes(boxes, confidences, 0.5, 0.4)\n",
        ""
      ]
    },
    {
      "cell_type": "code",
      "execution_count": null,
      "id": "ba1dd709",
      "metadata": {
        "id": "ba1dd709"
      },
      "outputs": [],
      "source": [
        "\n",
        "# Draw the results\n",
        "for i in indices.flatten():\n",
        "    x, y, w, h = boxes[i]\n",
        "    label = f\"{class_names[class_ids[i]]}: {confidences[i]:.2f}\"\n",
        "    color = (0, 255, 0)\n",
        "\n",
        "    cv2.rectangle(image, (x, y), (x + w, y + h), color, 2)\n",
        "    cv2.putText(image, label, (x, y - 10), cv2.FONT_HERSHEY_SIMPLEX, 0.5, color, 2)\n",
        "\n",
        "# Display the image\n",
        "cv2.imshow(\"YOLO Object Detection\", image)\n",
        "cv2.waitKey(0)\n",
        "cv2.destroyAllWindows()\n",
        ""
      ]
    }
  ],
  "metadata": {
    "colab": {
      "provenance": []
    }
  },
  "nbformat": 4,
  "nbformat_minor": 5
}